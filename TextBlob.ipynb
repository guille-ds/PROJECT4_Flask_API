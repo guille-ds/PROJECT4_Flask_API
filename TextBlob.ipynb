{
 "cells": [
  {
   "cell_type": "code",
   "execution_count": 3,
   "metadata": {},
   "outputs": [],
   "source": [
    "import requests"
   ]
  },
  {
   "cell_type": "code",
   "execution_count": 26,
   "metadata": {},
   "outputs": [
    {
     "data": {
      "text/plain": [
       "'{\"Okay if I talk?\": [0.5, 0.5], \"Don\\'t move.\": [0.0, 0.0], \"I kinda get nervous when I take tests.\": [0.0, 0.0], \"Sorry.\": [-0.5, 1.0], \"I already had I.Q. test this year... but I don\\'t think I never had a...\": [0.0, 0.0], \"Reaction time is a factor in this so please pay attention. Answer as quickly as you can.\": [0.3333333333333333, 0.5], \"Uh... sure...\": [0.5, 0.8888888888888888], \"One one eight seven at Hunterwasser...\": [0.0, 0.0], \"Oh... that\\'s the hotel.\": [0.0, 0.0], \"What?\": [0.0, 0.0], \"Where I live.\": [0.13636363636363635, 0.5], \"Nice place ?\": [0.6, 1.0], \"Huh? Sure.  Yeah. I guess. Is that.. part of the test ?\": [0.5, 0.8888888888888888], \"Warming you up, that\\'s all.\": [0.0, 0.0], \"Oh. It\\'s\": [0.0, 0.0], \"You\\'re in a desert, walking along in the sand when....\": [0.0, 0.0], \"Yes.   You\\'re in a desert, walking along in the sand when all of a sudden you lookdown and see a.....\": [0.0, 0.5], \"What one ?\": [0.0, 0.0], \"What ?\": [0.0, 0.0], \"What desert ?\": [0.0, 0.0], \"Doesn\\'t make any difference what desert.. it\\'s completely hypothetical.\": [0.1, 0.4], \"But how come I\\'d be there?\": [0.0, 0.0], \"Maybe you\\'re fed up, maybe you want to be by yourself.. who knows. So you look down and see a tortoise.  It\\'s crawling toward you....\": [-0.15555555555555559, 0.2888888888888889], \"A tortoise.  What\\'s that?\": [0.0, 0.0], \"Know what a turtle is?\": [0.0, 0.0], \"Of course.\": [0.0, 0.0], \"Same thing.\": [0.0, 0.125], \"I never seen a turtle.\": [0.0, 0.0], \"But I understand what you mean.\": [-0.3125, 0.6875], \"You reach down and flip the tortoise over on its back, Leon.\": [-0.07777777777777779, 0.14444444444444446], \"You make these questions, Mr. Holden, or they write \\'em down for you?\": [-0.15555555555555559, 0.2888888888888889], \"The tortoise lays on its back, its belly baking in the hot sun, beating its legs trying to turn itself over.  But it can\\'t.  Not without your help.  But you\\'re not helping.\": [0.125, 0.42500000000000004], \"Whatya mean, I\\'m not helping?\": [-0.3125, 0.6875], \"I mean you\\'re not helping!  Why is that, Leon?\": [-0.390625, 0.6875], \"They\\'re just questions, Leon. In answer to your query, they\\'re written down for me.  It\\'s a test, designed to provoke an emotional response.\": [-0.07777777777777779, 0.46944444444444444], \"Shall we continue?\": [0.0, 0.0], \"Describe in single words.  Only the good things that come into your mind.  About your mother.\": [0.20952380952380953, 0.6047619047619047], \"My...\": [0.0, 0.0]}'"
      ]
     },
     "execution_count": 26,
     "metadata": {},
     "output_type": "execute_result"
    }
   ],
   "source": [
    "chat_name = \"Blade_Runner\"\n",
    "requests.get(f\"http://localhost:3000//chat/{chat_name}/sentiment\").text"
   ]
  }
 ],
 "metadata": {
  "kernelspec": {
   "display_name": "Python 3",
   "language": "python",
   "name": "python3"
  },
  "language_info": {
   "codemirror_mode": {
    "name": "ipython",
    "version": 3
   },
   "file_extension": ".py",
   "mimetype": "text/x-python",
   "name": "python",
   "nbconvert_exporter": "python",
   "pygments_lexer": "ipython3",
   "version": "3.7.5"
  }
 },
 "nbformat": 4,
 "nbformat_minor": 4
}
