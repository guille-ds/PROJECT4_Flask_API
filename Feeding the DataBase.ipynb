{
 "cells": [
  {
   "cell_type": "markdown",
   "metadata": {},
   "source": [
    "## Dataset de conversaciones:\n",
    "Introduzco un dataset que contiene los diálogos de 2 escenas de 2 películas:\n",
    "- Blade Runner // (Escena en la que se evalúa la identidad de un individuo en base a sus respuestas en un test que busca producir emociones)\n",
    "- Gattaca // (Escena en la que una pareja habla de las configuración genética de su futuro hijo)"
   ]
  },
  {
   "cell_type": "code",
   "execution_count": 361,
   "metadata": {},
   "outputs": [],
   "source": [
    "import json\n",
    "import codecs\n",
    "data = json.load(codecs.open('./input/chats.json', 'r', 'utf-8-sig'))"
   ]
  },
  {
   "cell_type": "markdown",
   "metadata": {},
   "source": [
    "## Introduzco los usuarios:\n",
    "Para todos los elementos en el dataset, introduzco todos sus usuarios."
   ]
  },
  {
   "cell_type": "code",
   "execution_count": 362,
   "metadata": {},
   "outputs": [
    {
     "name": "stdout",
     "output_type": "stream",
     "text": [
      "Leon\n",
      "User already exist\n",
      "Geneticist\n",
      "User already exist\n",
      "Mary\n",
      "User already exist\n",
      "Tom\n",
      "User already exist\n",
      "Holden\n",
      "User already exist\n"
     ]
    }
   ],
   "source": [
    "users = set([e['username'] for e in data])\n",
    "for e in users:\n",
    "    print(e)\n",
    "    print(requests.post(f\"http://localhost:3000/user/create/{e}\").text)"
   ]
  },
  {
   "cell_type": "markdown",
   "metadata": {},
   "source": [
    "## Introduzco los chats:\n",
    "Para todos los elementos en el dataset, introduzco chat y usuarios asociados al mismo."
   ]
  },
  {
   "cell_type": "code",
   "execution_count": 363,
   "metadata": {},
   "outputs": [
    {
     "name": "stdout",
     "output_type": "stream",
     "text": [
      "Blade_Runner ['Leon', 'Holden']\n",
      "200 - New chat \"Blade_Runner\" inserted succesfully - chat_id = 5e52a622a5468967a9438ff3\n",
      "Gattaca ['Mary', 'Tom', 'Geneticist']\n",
      "200 - New chat \"Gattaca\" inserted succesfully - chat_id = 5e52a622a5468967a9438ff4\n"
     ]
    }
   ],
   "source": [
    "chatNames = set([e['chat_name'] for e in data])\n",
    "for chat in chatNames:\n",
    "    out = list(set([e['username'] for e in data if e['chat_name']==chat]))\n",
    "    print(chat, out)\n",
    "    datos={\"chat_name\":chat, \"users\":out}\n",
    "    print(requests.post(\"http://localhost:3000/chat/create\",params=datos).text)"
   ]
  },
  {
   "cell_type": "markdown",
   "metadata": {},
   "source": [
    "## Introduzco los mensajes:\n",
    "Para tosos los elementos en el dataset, introduzco los mensajes, asociándolos a un chat y a un usuario."
   ]
  },
  {
   "cell_type": "code",
   "execution_count": 364,
   "metadata": {},
   "outputs": [
    {
     "name": "stdout",
     "output_type": "stream",
     "text": [
      "200 - New message \"Okay if I talk?\" inserted succesfully - message_id = 5e52a629a5468967a9438ff5\n",
      "200 - New message \"Don't move.\" inserted succesfully - message_id = 5e52a629a5468967a9438ff6\n",
      "200 - New message \"I kinda get nervous when I take tests.\" inserted succesfully - message_id = 5e52a629a5468967a9438ff7\n",
      "200 - New message \"Don't move.\" inserted succesfully - message_id = 5e52a629a5468967a9438ff8\n",
      "200 - New message \"Sorry.\" inserted succesfully - message_id = 5e52a629a5468967a9438ff9\n",
      "200 - New message \"I already had I.Q. test this year... but I don't think I never had a...\" inserted succesfully - message_id = 5e52a629a5468967a9438ffa\n",
      "200 - New message \"Reaction time is a factor in this so please pay attention. Answer as quickly as you can.\" inserted succesfully - message_id = 5e52a629a5468967a9438ffb\n",
      "200 - New message \"Uh... sure...\" inserted succesfully - message_id = 5e52a629a5468967a9438ffc\n",
      "200 - New message \"One one eight seven at Hunterwasser...\" inserted succesfully - message_id = 5e52a629a5468967a9438ffd\n",
      "200 - New message \"Oh... that's the hotel.\" inserted succesfully - message_id = 5e52a629a5468967a9438ffe\n",
      "200 - New message \"What?\" inserted succesfully - message_id = 5e52a629a5468967a9438fff\n",
      "200 - New message \"Where I live.\" inserted succesfully - message_id = 5e52a629a5468967a9439000\n",
      "200 - New message \"Nice place ?\" inserted succesfully - message_id = 5e52a629a5468967a9439001\n",
      "200 - New message \"Huh? Sure.  Yeah. I guess. Is that.. part of the test ?\" inserted succesfully - message_id = 5e52a629a5468967a9439002\n",
      "200 - New message \"Warming you up, that's all.\" inserted succesfully - message_id = 5e52a629a5468967a9439003\n",
      "200 - New message \"Oh. It's\" inserted succesfully - message_id = 5e52a629a5468967a9439004\n",
      "200 - New message \"You're in a desert, walking along in the sand when....\" inserted succesfully - message_id = 5e52a629a5468967a9439005\n",
      "200 - New message \"You're in a desert, walking along in the sand when....\" inserted succesfully - message_id = 5e52a629a5468967a9439006\n",
      "200 - New message \"Yes.   You're in a desert, walking along in the sand when all of a sudden you lookdown and see a.....\" inserted succesfully - message_id = 5e52a629a5468967a9439007\n",
      "200 - New message \"What one ?\" inserted succesfully - message_id = 5e52a629a5468967a9439008\n",
      "200 - New message \"What ?\" inserted succesfully - message_id = 5e52a629a5468967a9439009\n",
      "200 - New message \"What desert ?\" inserted succesfully - message_id = 5e52a629a5468967a943900a\n",
      "200 - New message \"Doesn't make any difference what desert.. it's completely hypothetical.\" inserted succesfully - message_id = 5e52a629a5468967a943900b\n",
      "200 - New message \"But how come I'd be there?\" inserted succesfully - message_id = 5e52a629a5468967a943900c\n",
      "200 - New message \"Maybe you're fed up, maybe you want to be by yourself.. who knows. So you look down and see a tortoise.  It's crawling toward you....\" inserted succesfully - message_id = 5e52a629a5468967a943900d\n",
      "200 - New message \"A tortoise.  What's that?\" inserted succesfully - message_id = 5e52a629a5468967a943900e\n",
      "200 - New message \"Know what a turtle is?\" inserted succesfully - message_id = 5e52a629a5468967a943900f\n",
      "200 - New message \"Of course.\" inserted succesfully - message_id = 5e52a629a5468967a9439010\n",
      "200 - New message \"Same thing.\" inserted succesfully - message_id = 5e52a629a5468967a9439011\n",
      "200 - New message \"I never seen a turtle.\" inserted succesfully - message_id = 5e52a629a5468967a9439012\n",
      "200 - New message \"But I understand what you mean.\" inserted succesfully - message_id = 5e52a629a5468967a9439013\n",
      "200 - New message \"You reach down and flip the tortoise over on its back, Leon.\" inserted succesfully - message_id = 5e52a629a5468967a9439014\n",
      "200 - New message \"You make these questions, Mr. Holden, or they write 'em down for you?\" inserted succesfully - message_id = 5e52a629a5468967a9439015\n",
      "200 - New message \"The tortoise lays on its back, its belly baking in the hot sun, beating its legs trying to turn itself over.  But it can't.  Not without your help.  But you're not helping.\" inserted succesfully - message_id = 5e52a629a5468967a9439016\n",
      "200 - New message \"Whatya mean, I'm not helping?\" inserted succesfully - message_id = 5e52a629a5468967a9439017\n",
      "200 - New message \"I mean you're not helping!  Why is that, Leon?\" inserted succesfully - message_id = 5e52a629a5468967a9439018\n",
      "200 - New message \"They're just questions, Leon. In answer to your query, they're written down for me.  It's a test, designed to provoke an emotional response.\" inserted succesfully - message_id = 5e52a629a5468967a9439019\n",
      "200 - New message \"Shall we continue?\" inserted succesfully - message_id = 5e52a629a5468967a943901a\n",
      "200 - New message \"Describe in single words.  Only the good things that come into your mind.  About your mother.\" inserted succesfully - message_id = 5e52a629a5468967a943901b\n",
      "200 - New message \"My...\" inserted succesfully - message_id = 5e52a629a5468967a943901c\n",
      "200 - New message \"You've already specified blue eyes, dark hair and fair skin.  I have taken the liberty of eradicating any potentially prejudicial conditions - premature baldness, myopia, alcoholism and addictive susceptibility, propensity for violence and obesity\" inserted succesfully - message_id = 5e52a629a5468967a943901d\n",
      "200 - New message \"We didn't want diseases, yes.\" inserted succesfully - message_id = 5e52a629a5468967a943901e\n",
      "200 - New message \"We were wondering if we should leave some things to chance.\" inserted succesfully - message_id = 5e52a629a5468967a943901f\n",
      "200 - New message \"You want to give your child the best possible start.  Believe me, we have enough imperfection built-in already.  Your child doesn't need any additional burdens.  And keep in mind, this child is still you, simply the best of you. You could conceive naturally a thousand times and never get such a result.\" inserted succesfully - message_id = 5e52a629a5468967a9439020\n",
      "200 - New message \"He's right, Mary.  That's right.\" inserted succesfully - message_id = 5e52a629a5468967a9439021\n",
      "200 - New message \"Is there any reason you'd want a left-handed child?\" inserted succesfully - message_id = 5e52a629a5468967a9439022\n",
      "200 - New message \"Er, no...\" inserted succesfully - message_id = 5e52a629a5468967a9439023\n",
      "200 - New message \"Some believe it is associated with creativity, although there's no evidence.  Also for sports like baseball it can be an advantage.\" inserted succesfully - message_id = 5e52a629a5468967a9439024\n",
      "200 - New message \"I like football.\" inserted succesfully - message_id = 5e52a629a5468967a9439025\n",
      "200 - New message \"I have to warn you, Mr Luca, he's going to be at least a head taller than you. Prepare for a crick in the neck in sixteen years time.\" inserted succesfully - message_id = 5e52a629a5468967a9439026\n",
      "200 - New message \"Anything I've forgotten?\" inserted succesfully - message_id = 5e52a629a5468967a9439027\n",
      "200 - New message \"We want him--we were hoping he would get married and have children.  We'd like grandchildren.\" inserted succesfully - message_id = 5e52a629a5468967a9439028\n",
      "200 - New message \"I understand.  That's already been taken care of. Now you appreciate I can only work with the raw material I have at my disposal but for a little extra...I could also attempt to insert sequences associated with enhanced mathematical or musical ability.\" inserted succesfully - message_id = 5e52a629a5468967a9439029\n",
      "200 - New message \"Tom, the choir...\" inserted succesfully - message_id = 5e52a629a5468967a943902a\n",
      "200 - New message \"I have to caution you it's not fool-proof. With multi-gene traits there can be no guarantees.\" inserted succesfully - message_id = 5e52a629a5468967a943902b\n",
      "200 - New message \"How much extra?\" inserted succesfully - message_id = 5e52a629a5468967a943902c\n",
      "200 - New message \"It would be five thousand more.\" inserted succesfully - message_id = 5e52a629a5468967a943902d\n",
      "200 - New message \"I'm sorry, there's no way we can.\" inserted succesfully - message_id = 5e52a629a5468967a943902e\n",
      "200 - New message \"Don't worry.  You'll probably do just as well singing to him in the womb. We can implant the most successful pre-embryo tomorrow afternoon.\" inserted succesfully - message_id = 5e52a629a5468967a943902f\n",
      "200 - New message \"What will happen to the others?\" inserted succesfully - message_id = 5e52a629a5468967a9439030\n"
     ]
    },
    {
     "name": "stdout",
     "output_type": "stream",
     "text": [
      "200 - New message \"They are not babies, Mary, merely \"human possibilities\".\" inserted succesfully - message_id = 5e52a629a5468967a9439031\n",
      "200 - New message \"Smaller than a grain of sand.\" inserted succesfully - message_id = 5e52a629a5468967a9439032\n"
     ]
    }
   ],
   "source": [
    "for e in data:\n",
    "    chat_name = e['chat_name']\n",
    "    todo={\"user\":e['username'],\"message\":e['message']}\n",
    "    print(requests.post(f\"http://localhost:3000/chat/{chat_name}/addmessage\",params=todo).text)"
   ]
  }
 ],
 "metadata": {
  "kernelspec": {
   "display_name": "Python 3",
   "language": "python",
   "name": "python3"
  },
  "language_info": {
   "codemirror_mode": {
    "name": "ipython",
    "version": 3
   },
   "file_extension": ".py",
   "mimetype": "text/x-python",
   "name": "python",
   "nbconvert_exporter": "python",
   "pygments_lexer": "ipython3",
   "version": "3.7.5"
  }
 },
 "nbformat": 4,
 "nbformat_minor": 4
}
