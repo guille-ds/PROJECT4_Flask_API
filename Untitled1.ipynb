{
 "cells": [
  {
   "cell_type": "markdown",
   "metadata": {},
   "source": [
    "## Dataset de conversaciones:"
   ]
  },
  {
   "cell_type": "code",
   "execution_count": 358,
   "metadata": {},
   "outputs": [
    {
     "data": {
      "text/plain": [
       "{'username': 'Leon', 'chat_name': 'Blade_Runner', 'message': 'Okay if I talk?'}"
      ]
     },
     "execution_count": 358,
     "metadata": {},
     "output_type": "execute_result"
    }
   ],
   "source": [
    "import json\n",
    "import codecs\n",
    "data = json.load(codecs.open('./input/chats.json', 'r', 'utf-8-sig'))\n",
    "data[0]"
   ]
  },
  {
   "cell_type": "markdown",
   "metadata": {},
   "source": [
    "## Introduzco los usuarios:"
   ]
  },
  {
   "cell_type": "code",
   "execution_count": 355,
   "metadata": {},
   "outputs": [
    {
     "name": "stdout",
     "output_type": "stream",
     "text": [
      "Leon\n",
      "User already exist\n",
      "Geneticist\n",
      "User already exist\n",
      "Mary\n",
      "User already exist\n",
      "Tom\n",
      "User already exist\n",
      "Holden\n",
      "User already exist\n"
     ]
    }
   ],
   "source": [
    "users = set([e['username'] for e in data])\n",
    "for e in users:\n",
    "    print(e)\n",
    "    print(requests.post(f\"http://localhost:3000/user/create/{e}\").text)"
   ]
  },
  {
   "cell_type": "markdown",
   "metadata": {},
   "source": [
    "## Introduzco los chats:"
   ]
  },
  {
   "cell_type": "code",
   "execution_count": 350,
   "metadata": {},
   "outputs": [
    {
     "name": "stdout",
     "output_type": "stream",
     "text": [
      "Blade_Runner ['Leon', 'Holden']\n",
      "Chat already exist\n",
      "Gattaca ['Mary', 'Tom', 'Geneticist']\n",
      "Chat already exist\n"
     ]
    }
   ],
   "source": [
    "chatNames = set([e['chat_name'] for e in data])\n",
    "for chat in chatNames:\n",
    "    out = list(set([e['username'] for e in data if e['chat_name']==chat]))\n",
    "    print(chat, out)\n",
    "    datos={\"chat_name\":chat, \"users\":out}\n",
    "    print(requests.post(\"http://localhost:3000/chat/create\",params=datos).text)"
   ]
  },
  {
   "cell_type": "markdown",
   "metadata": {},
   "source": [
    "## Introduzco los mensajes:"
   ]
  },
  {
   "cell_type": "code",
   "execution_count": 360,
   "metadata": {},
   "outputs": [
    {
     "name": "stdout",
     "output_type": "stream",
     "text": [
      "200 - New message \"Okay if I talk?\" inserted succesfully - message_id = 5e529cde884f59d56ba0dbab\n",
      "200 - New message \"Don't move.\" inserted succesfully - message_id = 5e529cde884f59d56ba0dbac\n",
      "200 - New message \"I kinda get nervous when I take tests.\" inserted succesfully - message_id = 5e529cde884f59d56ba0dbad\n",
      "200 - New message \"Don't move.\" inserted succesfully - message_id = 5e529cde884f59d56ba0dbae\n",
      "200 - New message \"Sorry.\" inserted succesfully - message_id = 5e529cde884f59d56ba0dbaf\n",
      "200 - New message \"I already had I.Q. test this year... but I don't think I never had a...\" inserted succesfully - message_id = 5e529cde884f59d56ba0dbb0\n",
      "200 - New message \"Reaction time is a factor in this so please pay attention. Answer as quickly as you can.\" inserted succesfully - message_id = 5e529cde884f59d56ba0dbb1\n",
      "200 - New message \"Uh... sure...\" inserted succesfully - message_id = 5e529cde884f59d56ba0dbb2\n",
      "200 - New message \"One one eight seven at Hunterwasser...\" inserted succesfully - message_id = 5e529cde884f59d56ba0dbb3\n",
      "200 - New message \"Oh... that's the hotel.\" inserted succesfully - message_id = 5e529cde884f59d56ba0dbb4\n",
      "200 - New message \"What?\" inserted succesfully - message_id = 5e529cde884f59d56ba0dbb5\n",
      "200 - New message \"Where I live.\" inserted succesfully - message_id = 5e529cde884f59d56ba0dbb6\n",
      "200 - New message \"Nice place ?\" inserted succesfully - message_id = 5e529cde884f59d56ba0dbb7\n",
      "200 - New message \"Huh? Sure.  Yeah. I guess. Is that.. part of the test ?\" inserted succesfully - message_id = 5e529cde884f59d56ba0dbb8\n",
      "200 - New message \"Warming you up, that's all.\" inserted succesfully - message_id = 5e529cde884f59d56ba0dbb9\n",
      "200 - New message \"Oh. It's\" inserted succesfully - message_id = 5e529cde884f59d56ba0dbba\n",
      "200 - New message \"You're in a desert, walking along in the sand when....\" inserted succesfully - message_id = 5e529cde884f59d56ba0dbbb\n",
      "200 - New message \"You're in a desert, walking along in the sand when....\" inserted succesfully - message_id = 5e529cde884f59d56ba0dbbc\n",
      "200 - New message \"Yes.   You're in a desert, walking along in the sand when all of a sudden you lookdown and see a.....\" inserted succesfully - message_id = 5e529cde884f59d56ba0dbbd\n",
      "200 - New message \"What one ?\" inserted succesfully - message_id = 5e529cde884f59d56ba0dbbe\n",
      "200 - New message \"What ?\" inserted succesfully - message_id = 5e529cde884f59d56ba0dbbf\n",
      "200 - New message \"What desert ?\" inserted succesfully - message_id = 5e529cde884f59d56ba0dbc0\n",
      "200 - New message \"Doesn't make any difference what desert.. it's completely hypothetical.\" inserted succesfully - message_id = 5e529cde884f59d56ba0dbc1\n",
      "200 - New message \"But how come I'd be there?\" inserted succesfully - message_id = 5e529cde884f59d56ba0dbc2\n",
      "200 - New message \"Maybe you're fed up, maybe you want to be by yourself.. who knows. So you look down and see a tortoise.  It's crawling toward you....\" inserted succesfully - message_id = 5e529cde884f59d56ba0dbc3\n",
      "200 - New message \"A tortoise.  What's that?\" inserted succesfully - message_id = 5e529cde884f59d56ba0dbc4\n",
      "200 - New message \"Know what a turtle is?\" inserted succesfully - message_id = 5e529cde884f59d56ba0dbc5\n",
      "200 - New message \"Of course.\" inserted succesfully - message_id = 5e529cde884f59d56ba0dbc6\n",
      "200 - New message \"Same thing.\" inserted succesfully - message_id = 5e529cde884f59d56ba0dbc7\n",
      "200 - New message \"I never seen a turtle.\" inserted succesfully - message_id = 5e529cde884f59d56ba0dbc8\n",
      "200 - New message \"But I understand what you mean.\" inserted succesfully - message_id = 5e529cde884f59d56ba0dbc9\n",
      "200 - New message \"You reach down and flip the tortoise over on its back, Leon.\" inserted succesfully - message_id = 5e529cde884f59d56ba0dbca\n",
      "200 - New message \"You make these questions, Mr. Holden, or they write 'em down for you?\" inserted succesfully - message_id = 5e529cde884f59d56ba0dbcb\n",
      "200 - New message \"The tortoise lays on its back, its belly baking in the hot sun, beating its legs trying to turn itself over.  But it can't.  Not without your help.  But you're not helping.\" inserted succesfully - message_id = 5e529cde884f59d56ba0dbcc\n",
      "200 - New message \"Whatya mean, I'm not helping?\" inserted succesfully - message_id = 5e529cde884f59d56ba0dbcd\n",
      "200 - New message \"I mean you're not helping!  Why is that, Leon?\" inserted succesfully - message_id = 5e529cde884f59d56ba0dbce\n",
      "200 - New message \"They're just questions, Leon. In answer to your query, they're written down for me.  It's a test, designed to provoke an emotional response.\" inserted succesfully - message_id = 5e529cde884f59d56ba0dbcf\n",
      "200 - New message \"Shall we continue?\" inserted succesfully - message_id = 5e529cde884f59d56ba0dbd0\n",
      "200 - New message \"Describe in single words.  Only the good things that come into your mind.  About your mother.\" inserted succesfully - message_id = 5e529cde884f59d56ba0dbd1\n",
      "200 - New message \"My...\" inserted succesfully - message_id = 5e529cde884f59d56ba0dbd2\n",
      "200 - New message \"You've already specified blue eyes, dark hair and fair skin.  I have taken the liberty of eradicating any potentially prejudicial conditions - premature baldness, myopia, alcoholism and addictive susceptibility, propensity for violence and obesity\" inserted succesfully - message_id = 5e529cde884f59d56ba0dbd3\n",
      "200 - New message \"We didn't want diseases, yes.\" inserted succesfully - message_id = 5e529cde884f59d56ba0dbd4\n",
      "200 - New message \"We were wondering if we should leave some things to chance.\" inserted succesfully - message_id = 5e529cde884f59d56ba0dbd5\n",
      "200 - New message \"You want to give your child the best possible start.  Believe me, we have enough imperfection built-in already.  Your child doesn't need any additional burdens.  And keep in mind, this child is still you, simply the best of you. You could conceive naturally a thousand times and never get such a result.\" inserted succesfully - message_id = 5e529cde884f59d56ba0dbd6\n",
      "200 - New message \"He's right, Mary.  That's right.\" inserted succesfully - message_id = 5e529cde884f59d56ba0dbd7\n",
      "200 - New message \"Is there any reason you'd want a left-handed child?\" inserted succesfully - message_id = 5e529cde884f59d56ba0dbd8\n",
      "200 - New message \"Er, no...\" inserted succesfully - message_id = 5e529cde884f59d56ba0dbd9\n",
      "200 - New message \"Some believe it is associated with creativity, although there's no evidence.  Also for sports like baseball it can be an advantage.\" inserted succesfully - message_id = 5e529cde884f59d56ba0dbda\n",
      "200 - New message \"I like football.\" inserted succesfully - message_id = 5e529cde884f59d56ba0dbdb\n",
      "200 - New message \"I have to warn you, Mr Luca, he's going to be at least a head taller than you. Prepare for a crick in the neck in sixteen years time.\" inserted succesfully - message_id = 5e529cde884f59d56ba0dbdc\n",
      "200 - New message \"Anything I've forgotten?\" inserted succesfully - message_id = 5e529cde884f59d56ba0dbdd\n",
      "200 - New message \"We want him--we were hoping he would get married and have children.  We'd like grandchildren.\" inserted succesfully - message_id = 5e529cde884f59d56ba0dbde\n",
      "200 - New message \"I understand.  That's already been taken care of. Now you appreciate I can only work with the raw material I have at my disposal but for a little extra...I could also attempt to insert sequences associated with enhanced mathematical or musical ability.\" inserted succesfully - message_id = 5e529cde884f59d56ba0dbdf\n",
      "200 - New message \"Tom, the choir...\" inserted succesfully - message_id = 5e529cde884f59d56ba0dbe0\n",
      "200 - New message \"I have to caution you it's not fool-proof. With multi-gene traits there can be no guarantees.\" inserted succesfully - message_id = 5e529cde884f59d56ba0dbe1\n",
      "200 - New message \"How much extra?\" inserted succesfully - message_id = 5e529cde884f59d56ba0dbe2\n",
      "200 - New message \"It would be five thousand more.\" inserted succesfully - message_id = 5e529cde884f59d56ba0dbe3\n",
      "200 - New message \"I'm sorry, there's no way we can.\" inserted succesfully - message_id = 5e529cde884f59d56ba0dbe4\n",
      "200 - New message \"Don't worry.  You'll probably do just as well singing to him in the womb. We can implant the most successful pre-embryo tomorrow afternoon.\" inserted succesfully - message_id = 5e529cde884f59d56ba0dbe5\n",
      "200 - New message \"What will happen to the others?\" inserted succesfully - message_id = 5e529cde884f59d56ba0dbe6\n",
      "200 - New message \"They are not babies, Mary, merely \"human possibilities\".\" inserted succesfully - message_id = 5e529cde884f59d56ba0dbe7\n"
     ]
    },
    {
     "name": "stdout",
     "output_type": "stream",
     "text": [
      "200 - New message \"Smaller than a grain of sand.\" inserted succesfully - message_id = 5e529cde884f59d56ba0dbe8\n"
     ]
    }
   ],
   "source": [
    "for e in data:\n",
    "    chat_name = e['chat_name']\n",
    "    todo={\"user\":e['username'],\"message\":e['message']}\n",
    "    print(requests.post(f\"http://localhost:3000/chat/{chat_name}/addmessage\",params=todo).text)"
   ]
  },
  {
   "cell_type": "code",
   "execution_count": null,
   "metadata": {},
   "outputs": [],
   "source": []
  },
  {
   "cell_type": "code",
   "execution_count": 4,
   "metadata": {},
   "outputs": [],
   "source": [
    "import requests\n",
    "import json"
   ]
  },
  {
   "cell_type": "markdown",
   "metadata": {},
   "source": [
    "## Insertar un historial de chats:"
   ]
  },
  {
   "cell_type": "code",
   "execution_count": 62,
   "metadata": {},
   "outputs": [
    {
     "data": {
      "text/plain": [
       "<Response [404]>"
      ]
     },
     "execution_count": 62,
     "metadata": {},
     "output_type": "execute_result"
    }
   ],
   "source": [
    "todo = {\"name\":\"los de siempre\", \"content\":json.dumps({\"user1\": [\"message1\", \"message2\"],\"user2\": [\"message3\", \"message4\"],\"user3\": [\"message5\", \"message6\"]})}\n",
    "requests.post(\"http://localhost:3000/newChat/\",params=todo)"
   ]
  },
  {
   "cell_type": "markdown",
   "metadata": {},
   "source": [
    "## Insertar un usuario nuevo:"
   ]
  },
  {
   "cell_type": "code",
   "execution_count": 174,
   "metadata": {},
   "outputs": [
    {
     "data": {
      "text/plain": [
       "'<!DOCTYPE HTML PUBLIC \"-//W3C//DTD HTML 3.2 Final//EN\">\\n<title>405 Method Not Allowed</title>\\n<h1>Method Not Allowed</h1>\\n<p>The method is not allowed for the requested URL.</p>\\n'"
      ]
     },
     "execution_count": 174,
     "metadata": {},
     "output_type": "execute_result"
    }
   ],
   "source": [
    "name=\"Tom\"\n",
    "requests.get(f\"http://localhost:3000/user/create/{name}\").text"
   ]
  },
  {
   "cell_type": "markdown",
   "metadata": {},
   "source": [
    "## Insertar un chat nuevo:"
   ]
  },
  {
   "cell_type": "code",
   "execution_count": 198,
   "metadata": {},
   "outputs": [
    {
     "data": {
      "text/plain": [
       "'200 - New chat \"datamad\" inserted succesfully - chat_id = 5e52840140fbfb47775f2d57'"
      ]
     },
     "execution_count": 198,
     "metadata": {},
     "output_type": "execute_result"
    }
   ],
   "source": [
    "todo={\"chat_name\":\"datamad\", \"users\":['alberto', 'tom']}\n",
    "requests.post(\"http://localhost:3000/chat/create\",params=todo).text"
   ]
  },
  {
   "cell_type": "markdown",
   "metadata": {},
   "source": [
    "## Insertar un mensaje nuevo:"
   ]
  },
  {
   "cell_type": "code",
   "execution_count": 158,
   "metadata": {
    "scrolled": true
   },
   "outputs": [
    {
     "data": {
      "text/plain": [
       "'200 - New message \"que tal va todo?\" inserted succesfully - message_id = 5e51802f522b4dd0c8055acd'"
      ]
     },
     "execution_count": 158,
     "metadata": {},
     "output_type": "execute_result"
    }
   ],
   "source": [
    "chat_name=\"datamad\"\n",
    "todo={\"user\":\"alberto\",\"message\":\"que tal va todo?\"}\n",
    "requests.post(f\"http://localhost:3000/chat/{chat_name}/addmessage\",params=todo).text"
   ]
  },
  {
   "cell_type": "markdown",
   "metadata": {},
   "source": [
    "## Recuperar todos los mensajes de un chat:"
   ]
  },
  {
   "cell_type": "code",
   "execution_count": 173,
   "metadata": {},
   "outputs": [
    {
     "data": {
      "text/plain": [
       "'200 - \"datamad\" chat found - messages = [\\'hola colega!\\', \\'hola colega!\\', \\'hola colega!\\', \\'hola colega!\\', \\'que tal va todo?\\']'"
      ]
     },
     "execution_count": 173,
     "metadata": {},
     "output_type": "execute_result"
    }
   ],
   "source": [
    "chat_name=\"datamad\"\n",
    "requests.get(f\"http://localhost:3000/chat/{chat_name}/list\",params=todo).text"
   ]
  },
  {
   "cell_type": "code",
   "execution_count": null,
   "metadata": {},
   "outputs": [],
   "source": []
  },
  {
   "cell_type": "code",
   "execution_count": null,
   "metadata": {},
   "outputs": [],
   "source": []
  }
 ],
 "metadata": {
  "kernelspec": {
   "display_name": "Python 3",
   "language": "python",
   "name": "python3"
  },
  "language_info": {
   "codemirror_mode": {
    "name": "ipython",
    "version": 3
   },
   "file_extension": ".py",
   "mimetype": "text/x-python",
   "name": "python",
   "nbconvert_exporter": "python",
   "pygments_lexer": "ipython3",
   "version": "3.7.5"
  }
 },
 "nbformat": 4,
 "nbformat_minor": 4
}
