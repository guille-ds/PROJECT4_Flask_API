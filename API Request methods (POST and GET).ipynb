{
 "cells": [
  {
   "cell_type": "code",
   "execution_count": 2,
   "metadata": {},
   "outputs": [],
   "source": [
    "import requests"
   ]
  },
  {
   "cell_type": "markdown",
   "metadata": {},
   "source": [
    "## [POST] Insertar un usuario nuevo:"
   ]
  },
  {
   "cell_type": "code",
   "execution_count": 174,
   "metadata": {},
   "outputs": [
    {
     "data": {
      "text/plain": [
       "'<!DOCTYPE HTML PUBLIC \"-//W3C//DTD HTML 3.2 Final//EN\">\\n<title>405 Method Not Allowed</title>\\n<h1>Method Not Allowed</h1>\\n<p>The method is not allowed for the requested URL.</p>\\n'"
      ]
     },
     "execution_count": 174,
     "metadata": {},
     "output_type": "execute_result"
    }
   ],
   "source": [
    "# name = \"Tom\"\n",
    "requests.post(f\"http://localhost:3000/user/create/{name}\").text"
   ]
  },
  {
   "cell_type": "markdown",
   "metadata": {},
   "source": [
    "## [POST] Insertar un chat nuevo:"
   ]
  },
  {
   "cell_type": "code",
   "execution_count": 198,
   "metadata": {},
   "outputs": [
    {
     "data": {
      "text/plain": [
       "'200 - New chat \"datamad\" inserted succesfully - chat_id = 5e52840140fbfb47775f2d57'"
      ]
     },
     "execution_count": 198,
     "metadata": {},
     "output_type": "execute_result"
    }
   ],
   "source": [
    "# todo = {\"chat_name\":\"datamad\", \"users\":['alberto', 'tom']}\n",
    "requests.post(\"http://localhost:3000/chat/create\",params=todo).text"
   ]
  },
  {
   "cell_type": "markdown",
   "metadata": {},
   "source": [
    "## [POST] Insertar un mensaje nuevo:"
   ]
  },
  {
   "cell_type": "code",
   "execution_count": 158,
   "metadata": {
    "scrolled": true
   },
   "outputs": [
    {
     "data": {
      "text/plain": [
       "'200 - New message \"que tal va todo?\" inserted succesfully - message_id = 5e51802f522b4dd0c8055acd'"
      ]
     },
     "execution_count": 158,
     "metadata": {},
     "output_type": "execute_result"
    }
   ],
   "source": [
    "# chat_name = \"datamad\"\n",
    "# todo = {\"user\":\"alberto\",\"message\":\"qué tal va todo?\"}\n",
    "requests.post(f\"http://localhost:3000/chat/{chat_name}/addmessage\",params=todo).text"
   ]
  },
  {
   "cell_type": "markdown",
   "metadata": {},
   "source": [
    "## [GET] Recuperar todos los mensajes de un chat:"
   ]
  },
  {
   "cell_type": "code",
   "execution_count": 173,
   "metadata": {},
   "outputs": [
    {
     "data": {
      "text/plain": [
       "'200 - \"datamad\" chat found - messages = [\\'hola colega!\\', \\'hola colega!\\', \\'hola colega!\\', \\'hola colega!\\', \\'que tal va todo?\\']'"
      ]
     },
     "execution_count": 173,
     "metadata": {},
     "output_type": "execute_result"
    }
   ],
   "source": [
    "# chat_name = \"datamad\"\n",
    "requests.get(f\"http://localhost:3000/chat/{chat_name}/list\",params=todo).text"
   ]
  },
  {
   "cell_type": "markdown",
   "metadata": {},
   "source": [
    "## [GET] Analizar sentimientos de mensajes de un chat:"
   ]
  },
  {
   "cell_type": "code",
   "execution_count": 18,
   "metadata": {},
   "outputs": [
    {
     "data": {
      "text/plain": [
       "<Response [200]>"
      ]
     },
     "execution_count": 18,
     "metadata": {},
     "output_type": "execute_result"
    }
   ],
   "source": [
    "#chat_name = \"datamad\"\n",
    "requests.get(f\"http://localhost:3000//chat/{chat_name}/sentiment\")"
   ]
  },
  {
   "cell_type": "markdown",
   "metadata": {},
   "source": [
    "## extra -- [POST] Insertar un historial de chats:\n",
    "Con la intención de aprender a introducir estructuras más complejas en MongoDB, he añadido esta request.\n",
    "En el fondo, creo que la estructura que introduce los datos debería ser lo más sencilla posible y que sea la API la que internamente gestione los datos introducidos y los organice en una estructura todo lo compleja que se quiera."
   ]
  },
  {
   "cell_type": "code",
   "execution_count": 62,
   "metadata": {},
   "outputs": [
    {
     "data": {
      "text/plain": [
       "<Response [404]>"
      ]
     },
     "execution_count": 62,
     "metadata": {},
     "output_type": "execute_result"
    }
   ],
   "source": [
    "import json\n",
    "# todo = {\"name\":\"los de siempre\", \"content\":json.dumps({\"user1\": <messages_array>,\"user2\": <messages_array>,\"user3\": <messages_array>]})}\n",
    "requests.post(\"http://localhost:3000/newChat/\",params=todo)"
   ]
  }
 ],
 "metadata": {
  "kernelspec": {
   "display_name": "Python 3",
   "language": "python",
   "name": "python3"
  },
  "language_info": {
   "codemirror_mode": {
    "name": "ipython",
    "version": 3
   },
   "file_extension": ".py",
   "mimetype": "text/x-python",
   "name": "python",
   "nbconvert_exporter": "python",
   "pygments_lexer": "ipython3",
   "version": "3.7.5"
  }
 },
 "nbformat": 4,
 "nbformat_minor": 4
}
