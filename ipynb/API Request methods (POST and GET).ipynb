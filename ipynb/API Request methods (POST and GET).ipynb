{
 "cells": [
  {
   "cell_type": "code",
   "execution_count": 2,
   "metadata": {},
   "outputs": [],
   "source": [
    "import requests"
   ]
  },
  {
   "cell_type": "markdown",
   "metadata": {},
   "source": [
    "## [POST] Insertar un usuario nuevo:"
   ]
  },
  {
   "cell_type": "code",
   "execution_count": 33,
   "metadata": {},
   "outputs": [
    {
     "name": "stdout",
     "output_type": "stream",
     "text": [
      "User already exist\n"
     ]
    }
   ],
   "source": [
    "name = \"Holden\"\n",
    "r = requests.post(f\"http://localhost:3000/user/create/{name}\").text\n",
    "print(r)"
   ]
  },
  {
   "cell_type": "markdown",
   "metadata": {},
   "source": [
    "## [POST] Insertar un chat nuevo:"
   ]
  },
  {
   "cell_type": "code",
   "execution_count": 34,
   "metadata": {},
   "outputs": [
    {
     "name": "stdout",
     "output_type": "stream",
     "text": [
      "Chat already exist\n"
     ]
    }
   ],
   "source": [
    "todo = {\"chat_name\":\"Gattaca\", \"users\":['Mary', 'Tom']}\n",
    "r = requests.post(\"http://localhost:3000/chat/create\",params=todo).text\n",
    "print(r)"
   ]
  },
  {
   "cell_type": "markdown",
   "metadata": {},
   "source": [
    "## [POST] Insertar un mensaje nuevo:"
   ]
  },
  {
   "cell_type": "code",
   "execution_count": 158,
   "metadata": {
    "scrolled": true
   },
   "outputs": [
    {
     "data": {
      "text/plain": [
       "'200 - New message \"que tal va todo?\" inserted succesfully - message_id = 5e51802f522b4dd0c8055acd'"
      ]
     },
     "execution_count": 158,
     "metadata": {},
     "output_type": "execute_result"
    }
   ],
   "source": [
    "# chat_name = \"datamad\"\n",
    "# todo = {\"user\":\"alberto\",\"message\":\"qué tal va todo?\"}\n",
    "r = requests.post(f\"http://localhost:3000/chat/{chat_name}/addmessage\",params=todo).text\n",
    "print(r)"
   ]
  },
  {
   "cell_type": "markdown",
   "metadata": {},
   "source": [
    "## [GET] Recuperar todos los mensajes de un chat:"
   ]
  },
  {
   "cell_type": "code",
   "execution_count": 31,
   "metadata": {},
   "outputs": [
    {
     "name": "stdout",
     "output_type": "stream",
     "text": [
      "200 - \"Gattaca\" chat found - messages = [\"You've already specified blue eyes, dark hair and fair skin.  I have taken the liberty of eradicating any potentially prejudicial conditions - premature baldness, myopia, alcoholism and addictive susceptibility, propensity for violence and obesity\", \"We didn't want diseases, yes.\", 'We were wondering if we should leave some things to chance.', \"You want to give your child the best possible start.  Believe me, we have enough imperfection built-in already.  Your child doesn't need any additional burdens.  And keep in mind, this child is still you, simply the best of you. You could conceive naturally a thousand times and never get such a result.\", \"He's right, Mary.  That's right.\", \"Is there any reason you'd want a left-handed child?\", 'Er, no...', \"Some believe it is associated with creativity, although there's no evidence.  Also for sports like baseball it can be an advantage.\", 'I like football.', \"I have to warn you, Mr Luca, he's going to be at least a head taller than you. Prepare for a crick in the neck in sixteen years time.\", \"Anything I've forgotten?\", \"We want him--we were hoping he would get married and have children.  We'd like grandchildren.\", \"I understand.  That's already been taken care of. Now you appreciate I can only work with the raw material I have at my disposal but for a little extra...I could also attempt to insert sequences associated with enhanced mathematical or musical ability.\", 'Tom, the choir...', \"I have to caution you it's not fool-proof. With multi-gene traits there can be no guarantees.\", 'How much extra?', 'It would be five thousand more.', \"I'm sorry, there's no way we can.\", \"Don't worry.  You'll probably do just as well singing to him in the womb. We can implant the most successful pre-embryo tomorrow afternoon.\", 'What will happen to the others?', 'They are not babies, Mary, merely \"human possibilities\".', 'Smaller than a grain of sand.']\n"
     ]
    }
   ],
   "source": [
    "chat_name = \"Gattaca\"\n",
    "r = requests.get(f\"http://localhost:3000/chat/{chat_name}/list\").text\n",
    "print(r)"
   ]
  },
  {
   "cell_type": "markdown",
   "metadata": {},
   "source": [
    "## [GET] Analizar sentimientos de mensajes de un chat:"
   ]
  },
  {
   "cell_type": "code",
   "execution_count": 43,
   "metadata": {},
   "outputs": [
    {
     "name": "stdout",
     "output_type": "stream",
     "text": [
      "{\"You've already specified blue eyes, dark hair and fair skin.  I have taken the liberty of eradicating any potentially prejudicial conditions - premature baldness, myopia, alcoholism and addictive susceptibility, propensity for violence and obesity\": [[0.10999999999999999, 0.6599999999999999], {\"neg\": 0.186, \"neu\": 0.676, \"pos\": 0.138, \"compound\": -0.4588}], \"We didn't want diseases, yes.\": [[0.0, 0.0], {\"neg\": 0.537, \"neu\": 0.463, \"pos\": 0.0, \"compound\": -0.357}], \"We were wondering if we should leave some things to chance.\": [[0.0, 0.0], {\"neg\": 0.098, \"neu\": 0.738, \"pos\": 0.164, \"compound\": 0.2023}], \"You want to give your child the best possible start.  Believe me, we have enough imperfection built-in already.  Your child doesn't need any additional burdens.  And keep in mind, this child is still you, simply the best of you. You could conceive naturally a thousand times and never get such a result.\": [[0.3, 0.4795918367346938], {\"neg\": 0.043, \"neu\": 0.79, \"pos\": 0.167, \"compound\": 0.802}], \"He's right, Mary.  That's right.\": [[0.2857142857142857, 0.5357142857142857], {\"neg\": 0.0, \"neu\": 1.0, \"pos\": 0.0, \"compound\": 0.0}], \"Is there any reason you'd want a left-handed child?\": [[0.0, 0.0], {\"neg\": 0.0, \"neu\": 0.843, \"pos\": 0.157, \"compound\": 0.0772}], \"Er, no...\": [[0.0, 0.0], {\"neg\": 0.0, \"neu\": 1.0, \"pos\": 0.0, \"compound\": 0.0}], \"Some believe it is associated with creativity, although there's no evidence.  Also for sports like baseball it can be an advantage.\": [[0.0, 0.0], {\"neg\": 0.084, \"neu\": 0.646, \"pos\": 0.27, \"compound\": 0.5994}], \"I like football.\": [[0.0, 0.0], {\"neg\": 0.0, \"neu\": 0.286, \"pos\": 0.714, \"compound\": 0.3612}], \"I have to warn you, Mr Luca, he's going to be at least a head taller than you. Prepare for a crick in the neck in sixteen years time.\": [[-0.3, 0.4], {\"neg\": 0.053, \"neu\": 0.947, \"pos\": 0.0, \"compound\": -0.1027}], \"Anything I've forgotten?\": [[0.0, 0.0], {\"neg\": 0.487, \"neu\": 0.513, \"pos\": 0.0, \"compound\": -0.2263}], \"We want him--we were hoping he would get married and have children.  We'd like grandchildren.\": [[0.25, 0.25], {\"neg\": 0.0, \"neu\": 0.645, \"pos\": 0.355, \"compound\": 0.6808}], \"I understand.  That's already been taken care of. Now you appreciate I can only work with the raw material I have at my disposal but for a little extra...I could also attempt to insert sequences associated with enhanced mathematical or musical ability.\": [[-0.08365384615384616, 0.39230769230769236], {\"neg\": 0.0, \"neu\": 0.835, \"pos\": 0.165, \"compound\": 0.7096}], \"Tom, the choir...\": [[0.0, 0.0], {\"neg\": 0.0, \"neu\": 1.0, \"pos\": 0.0, \"compound\": 0.0}], \"I have to caution you it's not fool-proof. With multi-gene traits there can be no guarantees.\": [[0.0, 0.0], {\"neg\": 0.136, \"neu\": 0.864, \"pos\": 0.0, \"compound\": -0.296}], \"How much extra?\": [[0.0, 0.1], {\"neg\": 0.0, \"neu\": 1.0, \"pos\": 0.0, \"compound\": 0.0}], \"It would be five thousand more.\": [[0.5, 0.5], {\"neg\": 0.0, \"neu\": 1.0, \"pos\": 0.0, \"compound\": 0.0}], \"I'm sorry, there's no way we can.\": [[-0.5, 1.0], {\"neg\": 0.412, \"neu\": 0.588, \"pos\": 0.0, \"compound\": -0.3612}], \"Don't worry.  You'll probably do just as well singing to him in the womb. We can implant the most successful pre-embryo tomorrow afternoon.\": [[0.625, 0.725], {\"neg\": 0.0, \"neu\": 0.699, \"pos\": 0.301, \"compound\": 0.8224}], \"What will happen to the others?\": [[0.0, 0.0], {\"neg\": 0.0, \"neu\": 1.0, \"pos\": 0.0, \"compound\": 0.0}], \"They are not babies, Mary, merely \\\"human possibilities\\\".\": [[0.0, 0.1], {\"neg\": 0.0, \"neu\": 1.0, \"pos\": 0.0, \"compound\": 0.0}], \"Smaller than a grain of sand.\": [[0.0, 0.5], {\"neg\": 0.0, \"neu\": 1.0, \"pos\": 0.0, \"compound\": 0.0}]}\n"
     ]
    }
   ],
   "source": [
    "import json\n",
    "chat_name = \"Gattaca\"\n",
    "r = requests.get(f\"http://localhost:3000//chat/{chat_name}/sentiment\").text\n",
    "print(r)"
   ]
  },
  {
   "cell_type": "markdown",
   "metadata": {},
   "source": [
    "## [GET] Recuperar todos los mensajes de un usuario:"
   ]
  },
  {
   "cell_type": "code",
   "execution_count": 80,
   "metadata": {},
   "outputs": [
    {
     "name": "stdout",
     "output_type": "stream",
     "text": [
      "We were wondering if we should leave some things to chance. He's right, Mary.  That's right. Er, no... I like football. How much extra? I'm sorry, there's no way we can.\n"
     ]
    }
   ],
   "source": [
    "user = \"Tom\"\n",
    "r = requests.get(f\"http://localhost:3000/user/messages/{user}\").text\n",
    "print(r)"
   ]
  },
  {
   "cell_type": "markdown",
   "metadata": {},
   "source": [
    "## [GET] Recomendar un usuario a otro dado:"
   ]
  },
  {
   "cell_type": "code",
   "execution_count": 99,
   "metadata": {},
   "outputs": [
    {
     "name": "stdout",
     "output_type": "stream",
     "text": [
      "Leon\n"
     ]
    }
   ],
   "source": [
    "user = \"Holden\"\n",
    "r = requests.get(f\"http://localhost:3000//recommend/{user}\").text\n",
    "print(r)"
   ]
  },
  {
   "cell_type": "markdown",
   "metadata": {},
   "source": [
    "## extra -- [POST] Insertar un historial de chats:\n",
    "Con la intención de aprender a introducir estructuras más complejas en MongoDB, he añadido esta request.\\\n",
    "Aunque después de hacerlo, creo que el formato de la estructura que introduce los datos debería ser lo más sencilla posible y que sea la API la que internamente gestione los datos introducidos y los organice en una estructura todo lo compleja que se quiera."
   ]
  },
  {
   "cell_type": "code",
   "execution_count": 62,
   "metadata": {},
   "outputs": [
    {
     "data": {
      "text/plain": [
       "<Response [404]>"
      ]
     },
     "execution_count": 62,
     "metadata": {},
     "output_type": "execute_result"
    }
   ],
   "source": [
    "import json\n",
    "# todo = {\"name\":\"datamad\", \"content\":json.dumps({\"user1\": <messages_array>,\"user2\": <messages_array>,\"user3\": <messages_array>]})}\n",
    "requests.post(\"http://localhost:3000/newChat/\",params=todo)"
   ]
  }
 ],
 "metadata": {
  "kernelspec": {
   "display_name": "Python 3",
   "language": "python",
   "name": "python3"
  },
  "language_info": {
   "codemirror_mode": {
    "name": "ipython",
    "version": 3
   },
   "file_extension": ".py",
   "mimetype": "text/x-python",
   "name": "python",
   "nbconvert_exporter": "python",
   "pygments_lexer": "ipython3",
   "version": "3.7.5"
  }
 },
 "nbformat": 4,
 "nbformat_minor": 4
}
