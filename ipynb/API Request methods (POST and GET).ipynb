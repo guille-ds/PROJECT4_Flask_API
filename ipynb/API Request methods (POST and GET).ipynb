{
 "cells": [
  {
   "cell_type": "code",
   "execution_count": 2,
   "metadata": {},
   "outputs": [],
   "source": [
    "import requests"
   ]
  },
  {
   "cell_type": "markdown",
   "metadata": {},
   "source": [
    "## [POST] Insertar un usuario nuevo:"
   ]
  },
  {
   "cell_type": "code",
   "execution_count": 3,
   "metadata": {},
   "outputs": [
    {
     "name": "stdout",
     "output_type": "stream",
     "text": [
      "User already exist\n"
     ]
    }
   ],
   "source": [
    "name = \"Holden\"\n",
    "r = requests.post(f\"http://localhost:3000/user/create/{name}\").text\n",
    "print(r)"
   ]
  },
  {
   "cell_type": "markdown",
   "metadata": {},
   "source": [
    "## [POST] Insertar un chat nuevo:"
   ]
  },
  {
   "cell_type": "code",
   "execution_count": 4,
   "metadata": {},
   "outputs": [
    {
     "name": "stdout",
     "output_type": "stream",
     "text": [
      "Chat already exist\n"
     ]
    }
   ],
   "source": [
    "todo = {\"chat_name\":\"Gattaca\", \"users\":['Mary', 'Tom']}\n",
    "r = requests.post(\"http://localhost:3000/chat/create\",params=todo).text\n",
    "print(r)"
   ]
  },
  {
   "cell_type": "markdown",
   "metadata": {},
   "source": [
    "## [POST] Insertar un mensaje nuevo:"
   ]
  },
  {
   "cell_type": "code",
   "execution_count": 158,
   "metadata": {
    "scrolled": true
   },
   "outputs": [
    {
     "data": {
      "text/plain": [
       "'200 - New message \"que tal va todo?\" inserted succesfully - message_id = 5e51802f522b4dd0c8055acd'"
      ]
     },
     "execution_count": 158,
     "metadata": {},
     "output_type": "execute_result"
    }
   ],
   "source": [
    "# chat_name = \"datamad\"\n",
    "# todo = {\"user\":\"alberto\",\"message\":\"qué tal va todo?\"}\n",
    "r = requests.post(f\"http://localhost:3000/chat/{chat_name}/addmessage\",params=todo).text\n",
    "print(r)"
   ]
  },
  {
   "cell_type": "markdown",
   "metadata": {},
   "source": [
    "## [GET] Recuperar todos los mensajes de un chat:"
   ]
  },
  {
   "cell_type": "code",
   "execution_count": 31,
   "metadata": {},
   "outputs": [
    {
     "name": "stdout",
     "output_type": "stream",
     "text": [
      "200 - \"Gattaca\" chat found - messages = [\"You've already specified blue eyes, dark hair and fair skin.  I have taken the liberty of eradicating any potentially prejudicial conditions - premature baldness, myopia, alcoholism and addictive susceptibility, propensity for violence and obesity\", \"We didn't want diseases, yes.\", 'We were wondering if we should leave some things to chance.', \"You want to give your child the best possible start.  Believe me, we have enough imperfection built-in already.  Your child doesn't need any additional burdens.  And keep in mind, this child is still you, simply the best of you. You could conceive naturally a thousand times and never get such a result.\", \"He's right, Mary.  That's right.\", \"Is there any reason you'd want a left-handed child?\", 'Er, no...', \"Some believe it is associated with creativity, although there's no evidence.  Also for sports like baseball it can be an advantage.\", 'I like football.', \"I have to warn you, Mr Luca, he's going to be at least a head taller than you. Prepare for a crick in the neck in sixteen years time.\", \"Anything I've forgotten?\", \"We want him--we were hoping he would get married and have children.  We'd like grandchildren.\", \"I understand.  That's already been taken care of. Now you appreciate I can only work with the raw material I have at my disposal but for a little extra...I could also attempt to insert sequences associated with enhanced mathematical or musical ability.\", 'Tom, the choir...', \"I have to caution you it's not fool-proof. With multi-gene traits there can be no guarantees.\", 'How much extra?', 'It would be five thousand more.', \"I'm sorry, there's no way we can.\", \"Don't worry.  You'll probably do just as well singing to him in the womb. We can implant the most successful pre-embryo tomorrow afternoon.\", 'What will happen to the others?', 'They are not babies, Mary, merely \"human possibilities\".', 'Smaller than a grain of sand.']\n"
     ]
    }
   ],
   "source": [
    "chat_name = \"Gattaca\"\n",
    "r = requests.get(f\"http://localhost:3000/chat/{chat_name}/list\").text\n",
    "print(r)"
   ]
  },
  {
   "cell_type": "markdown",
   "metadata": {},
   "source": [
    "## [GET] Recuperar todos los mensajes de un usuario:"
   ]
  },
  {
   "cell_type": "code",
   "execution_count": 80,
   "metadata": {},
   "outputs": [
    {
     "name": "stdout",
     "output_type": "stream",
     "text": [
      "We were wondering if we should leave some things to chance. He's right, Mary.  That's right. Er, no... I like football. How much extra? I'm sorry, there's no way we can.\n"
     ]
    }
   ],
   "source": [
    "user = \"Tom\"\n",
    "r = requests.get(f\"http://localhost:3000/user/messages/{user}\").text\n",
    "print(r)"
   ]
  },
  {
   "cell_type": "markdown",
   "metadata": {},
   "source": [
    "## extra -- [POST] Insertar un historial de chats:\n",
    "Con la intención de aprender a introducir estructuras más complejas en MongoDB, he añadido esta request.\\\n",
    "Aunque después de hacerlo, creo que el formato de la estructura que introduce los datos debería ser lo más sencilla posible y que sea la API la que internamente gestione los datos introducidos y los organice en una estructura todo lo compleja que se quiera.\\\n",
    "Después de comprobar que funciona, no he realizado la request para no ensuciar la base de datos."
   ]
  },
  {
   "cell_type": "code",
   "execution_count": 62,
   "metadata": {},
   "outputs": [
    {
     "data": {
      "text/plain": [
       "<Response [404]>"
      ]
     },
     "execution_count": 62,
     "metadata": {},
     "output_type": "execute_result"
    }
   ],
   "source": [
    "import json\n",
    "# todo = {\"name\":\"datamad\", \"content\":json.dumps({\"user1\": <messages_array>,\"user2\": <messages_array>,\"user3\": <messages_array>]})}\n",
    "requests.post(\"http://localhost:3000/newChat/\",params=todo)"
   ]
  }
 ],
 "metadata": {
  "kernelspec": {
   "display_name": "Python 3",
   "language": "python",
   "name": "python3"
  },
  "language_info": {
   "codemirror_mode": {
    "name": "ipython",
    "version": 3
   },
   "file_extension": ".py",
   "mimetype": "text/x-python",
   "name": "python",
   "nbconvert_exporter": "python",
   "pygments_lexer": "ipython3",
   "version": "3.7.5"
  }
 },
 "nbformat": 4,
 "nbformat_minor": 4
}
